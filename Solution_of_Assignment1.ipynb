{
  "nbformat": 4,
  "nbformat_minor": 0,
  "metadata": {
    "colab": {
      "name": "Solution of Assignment1.ipynb",
      "provenance": [],
      "collapsed_sections": [],
      "include_colab_link": true
    },
    "kernelspec": {
      "name": "python3",
      "display_name": "Python 3"
    },
    "language_info": {
      "name": "python"
    }
  },
  "cells": [
    {
      "cell_type": "markdown",
      "metadata": {
        "id": "view-in-github",
        "colab_type": "text"
      },
      "source": [
        "<a href=\"https://colab.research.google.com/github/Tejas-Bajaj/CTE__Intro-to-ml-dl/blob/main/Solution_of_Assignment1.ipynb\" target=\"_parent\"><img src=\"https://colab.research.google.com/assets/colab-badge.svg\" alt=\"Open In Colab\"/></a>"
      ]
    },
    {
      "cell_type": "markdown",
      "source": [
        "# Hello ! "
      ],
      "metadata": {
        "id": "DfJoXzxlSYZM"
      }
    },
    {
      "cell_type": "markdown",
      "source": [
        "### This is our first Assignment! Feel free to google !"
      ],
      "metadata": {
        "id": "nRsC4zkEScEE"
      }
    },
    {
      "cell_type": "markdown",
      "source": [
        "####1. New line New sentence"
      ],
      "metadata": {
        "id": "kJj715gSYdaT"
      }
    },
    {
      "cell_type": "code",
      "source": [
        "message =\"\"\"Lorem ipsum dolor sit amet. Est soluta mollitia ex nesciunt corporis in natus nisi? Aut saepe consequatur est aliquid itaque sed natus culpa et saepe ducimus et praesentium cumque non voluptatem quod. Ex officiis dolor ab exercitationem impedit et dolores laborum.\n",
        "\n",
        "Sit molestiae minus et itaque voluptatum sed minima laboriosam eos voluptate quod ab sapiente sint. Ut incidunt galisum est quia veritatis ex fugiat voluptas qui doloribus galisum.\n",
        "\n",
        "Est delectus totam ut accusantium doloribus non necessitatibus omnis nam ullam tenetur aut aliquid atque est porro voluptate! Ut maxime maiores id internos numquam cum tempora atque.\"\"\"\n",
        "\n",
        "\n",
        "\n",
        "\n",
        "\n",
        "\n",
        "# this is a way of writing multi-line strings in python, This is very helpful while documenting your project! read more about docstrings here - https://pandas.pydata.org/docs/development/contributing_docstring.html\n",
        "\n",
        "\n",
        "#above text is generated with the help of this website - https://www.loremipzum.com/en/text-generator\n",
        "\n"
      ],
      "metadata": {
        "id": "7NJ9BhFQSv7M"
      },
      "execution_count": 2,
      "outputs": []
    },
    {
      "cell_type": "code",
      "source": [
        ""
      ],
      "metadata": {
        "id": "s9SBsevtUW-h"
      },
      "execution_count": null,
      "outputs": []
    },
    {
      "cell_type": "code",
      "source": [
        "\n",
        "# your task is to print every new statement in new line  \n",
        "# write your code in next block! ideal answer is provided here! "
      ],
      "metadata": {
        "id": "sVuQQrfAT3Pp",
        "colab": {
          "base_uri": "https://localhost:8080/"
        },
        "outputId": "344083b8-6a73-4b49-d760-1549b445710f"
      },
      "execution_count": null,
      "outputs": [
        {
          "output_type": "stream",
          "name": "stdout",
          "text": [
            "Lorem ipsum dolor sit amet.\n",
            "Est soluta mollitia ex nesciunt corporis in natus nisi? Aut saepe consequatur est aliquid itaque sed natus culpa et saepe ducimus et praesentium cumque non voluptatem quod.\n",
            "Ex officiis dolor ab exercitationem impedit et dolores laborum.\n",
            "Sit molestiae minus et itaque voluptatum sed minima laboriosam eos voluptate quod ab sapiente sint.\n",
            "Ut incidunt galisum est quia veritatis ex fugiat voluptas qui doloribus galisum.\n",
            "Est delectus totam ut accusantium doloribus non necessitatibus omnis nam ullam tenetur aut aliquid atque est porro voluptate! Ut maxime maiores id internos numquam cum tempora atque.\n"
          ]
        }
      ]
    },
    {
      "cell_type": "code",
      "source": [
        "#write your code here! "
      ],
      "metadata": {
        "id": "dTBrGYAOUU1h"
      },
      "execution_count": null,
      "outputs": []
    },
    {
      "cell_type": "code",
      "source": [
        "paras = message.split('\\n\\n')\n",
        "for para in paras:\n",
        "  for i in para.split('. '):\n",
        "    if not i[-1] == '.':\n",
        "      print(i + '.')\n",
        "    else:\n",
        "      print(i)"
      ],
      "metadata": {
        "id": "NRM2B-XjXCBC",
        "colab": {
          "base_uri": "https://localhost:8080/"
        },
        "outputId": "9f986e8c-419f-405e-b255-6ba1e1209432"
      },
      "execution_count": 3,
      "outputs": [
        {
          "output_type": "stream",
          "name": "stdout",
          "text": [
            "Lorem ipsum dolor sit amet.\n",
            "Est soluta mollitia ex nesciunt corporis in natus nisi? Aut saepe consequatur est aliquid itaque sed natus culpa et saepe ducimus et praesentium cumque non voluptatem quod.\n",
            "Ex officiis dolor ab exercitationem impedit et dolores laborum.\n",
            "Sit molestiae minus et itaque voluptatum sed minima laboriosam eos voluptate quod ab sapiente sint.\n",
            "Ut incidunt galisum est quia veritatis ex fugiat voluptas qui doloribus galisum.\n",
            "Est delectus totam ut accusantium doloribus non necessitatibus omnis nam ullam tenetur aut aliquid atque est porro voluptate! Ut maxime maiores id internos numquam cum tempora atque.\n"
          ]
        }
      ]
    },
    {
      "cell_type": "markdown",
      "source": [
        "####2. Inputs from a file \n"
      ],
      "metadata": {
        "id": "yAG9Z-dMXTqn"
      }
    },
    {
      "cell_type": "markdown",
      "source": [
        "Suppose you are working for an email spamming company (we dont know much about the buiseness model of the company) and you are given a text file with names and email addresses \n",
        "\n",
        "What you have to do? - Create a mapping of name --> email, Basically a dictionary! \n",
        "\n"
      ],
      "metadata": {
        "id": "Xignt0POk4IN"
      }
    },
    {
      "cell_type": "markdown",
      "source": [
        "How will you find names in the given text file? names are enclosed between single quotes. Name and its corresponding email are in single line, so work with a single line at a time 😉"
      ],
      "metadata": {
        "id": "2b7jBhpOqRVo"
      }
    },
    {
      "cell_type": "code",
      "source": [
        "#####common FAQs - \n",
        "\n",
        "# How to load text file in google colab? - You can upload files to colab session - something like this - https://youtu.be/6HFlwqK3oeo?t=174\n",
        "# How to read read content in the text file with python - https://bit.ly/36FsRWC \n",
        "# if google doesnt give satisfactory answers to your questions; feel free to pm to any mentors\n",
        "\n",
        "\n",
        "#some more info about data \n",
        "# there are 995 lines in the text file; \n",
        "#format for a line is -  Name of the person is -- `<name>` You need to spam this email id - <email id>\n"
      ],
      "metadata": {
        "id": "hlp6r-cjrVcI"
      },
      "execution_count": null,
      "outputs": []
    },
    {
      "cell_type": "code",
      "source": [
        "#write your code here!.\n",
        "\n",
        "f = open('data.txt')\n",
        "d = {}\n",
        "for i in range(995):\n",
        "  line = f.readline()\n",
        "  line = line.split()\n",
        "  name_with_quotes = line[6] + ' ' + line[7]\n",
        "  name = name_with_quotes[1:-1]\n",
        "  email = line[16]\n",
        "  d[name] = email\n",
        "print(d)\n"
      ],
      "metadata": {
        "id": "n2FfhzIs8bZN",
        "colab": {
          "base_uri": "https://localhost:8080/"
        },
        "outputId": "4be9e026-19b6-4712-936b-c255463500c5"
      },
      "execution_count": 10,
      "outputs": [
        {
          "output_type": "stream",
          "name": "stdout",
          "text": [
            "{'Ronald Henderson': 'rhenderson4@mediafire.com', 'Irene Hill': 'ihill5@ucla.edu', 'Jessica Peters': 'jpeters6@slideshare.net', 'Lori Banks': 'lbanks7@nih.gov', 'Alice Taylor': 'ataylor8@huffingtonpost.com', 'Martin Richardson': 'mrichardson9@jugem.jp', 'Frances Fisher': 'ffishera@rediff.com', 'Carlos Cole': 'ccoleb@go.com', 'Joan Payne': 'jpaynec@bloglovin.com', 'Diane Woods': 'dwoodsd@canalblog.com', 'Gerald Lawson': 'glawsone@yolasite.com', 'Kimberly Payne': 'kpaynef@mit.edu', 'Susan Miller': 'smillerg@foxnews.com', 'Karen Evans': 'kevansh@huffingtonpost.com', 'Kimberly Mendoza': 'kmendozai@w3.org', 'Shirley Larson': 'slarsonj@amazon.com', 'Rose Roberts': 'rrobertsk@phoca.cz', 'Mark Holmes': 'mholmesl@ovh.net', 'Martin Ortiz': 'mortizm@foxnews.com', 'Debra Walker': 'dwalkern@mayoclinic.com', 'Daniel Henderson': 'dhendersono@reddit.com', 'Evelyn Willis': 'ewillisp@bbc.co.uk', 'Steve Morrison': 'smorrisonq@dailymail.co.uk', 'Jacqueline Turner': 'jturnerr@weebly.com', 'Diane Knight': 'dknights@nytimes.com', 'Wanda Palmer': 'wpalmert@youtube.com', 'Shirley Evans': 'sevansu@1und1.de', 'Robert Schmidt': 'rschmidtv@intel.com', 'Timothy Schmidt': 'tschmidtw@yahoo.co.jp', 'Andrea Cunningham': 'acunninghamx@jimdo.com', 'Ronald Fields': 'rfieldsy@cnn.com', 'Kimberly Dixon': 'kdixonz@census.gov', 'Howard Rose': 'hrose10@addthis.com', 'Martin Andrews': 'mandrews11@gnu.org', 'Charles Meyer': 'cmeyer12@si.edu', 'Ruth Lee': 'rlee13@aol.com', 'Charles Pierce': 'cpierce14@ucsd.edu', 'Joe Wright': 'jwright15@craigslist.org', 'Todd Pierce': 'tpierce16@independent.co.uk', 'Gerald Reyes': 'greyes17@rediff.com', 'Dennis Lewis': 'dlewis18@netvibes.com', 'Judy Lawson': 'jlawson19@auda.org.au', 'Sandra Montgomery': 'smontgomery1a@webs.com', 'Dennis Sims': 'dsims1b@reddit.com', 'Dorothy Gardner': 'dgardner1c@unblog.fr', 'Sharon Ellis': 'sellis1d@histats.com', 'Philip Perkins': 'pperkins1e@hubpages.com', 'Diane Fox': 'dfox1f@umn.edu', 'Angela Perkins': 'aperkins1g@wikispaces.com', 'Philip Thompson': 'pthompson1h@psu.edu', 'Paul Tucker': 'ptucker1i@wisc.edu', 'Emily Hughes': 'ehughes1j@abc.net.au', 'Alice Chapman': 'achapman1k@cmu.edu', 'Victor Bennett': 'vbennett1l@pagesperso-orange.fr', 'John Cruz': 'jcruz1m@digg.com', 'Earl Howell': 'ehowell1n@usnews.com', 'Howard Reyes': 'hreyes1o@wordpress.com', 'Lois Fox': 'lfox1p@sogou.com', 'Fred Meyer': 'fmeyer1q@istockphoto.com', 'Michelle Bryant': 'mbryant1r@ezinearticles.com', 'Shawn Cole': 'scole1s@mysql.com', 'Jennifer Parker': 'jparker1t@admin.ch', 'Dennis Henderson': 'dhenderson1u@amazonaws.com', 'Gary Ryan': 'gryan1v@biblegateway.com', 'Donna Lee': 'dlee1w@indiegogo.com', 'Ernest Harvey': 'eharvey1x@unesco.org', 'Denise Austin': 'daustin1y@mit.edu', 'Tina Schmidt': 'tschmidt1z@slashdot.org', 'Russell Woods': 'rwoods20@yandex.ru', 'Deborah Allen': 'dallen21@rakuten.co.jp', 'Norma Harrison': 'nharrison22@hatena.ne.jp', 'Gary Day': 'gday23@gravatar.com', 'Steve West': 'swest24@clickbank.net', 'Margaret Shaw': 'mshaw25@dropbox.com', 'Gregory Harvey': 'gharvey26@behance.net', 'Bonnie Thompson': 'bthompson27@arstechnica.com', 'Sean Owens': 'sowens8o@europa.eu', 'Kevin Frazier': 'kfrazier29@dailymotion.com', 'Jeremy Murphy': 'jmurphy2a@tamu.edu', 'Janet Wood': 'jwood2b@oakley.com', 'Bonnie Gonzalez': 'bgonzalez2c@angelfire.com', 'Ryan Harrison': 'rharrison2d@miibeian.gov.cn', 'Scott Hawkins': 'shawkins2e@chicagotribune.com', 'Aaron George': 'ageorge2f@mapquest.com', 'Todd Ryan': 'tryan2g@google.ca', 'Anthony Powell': 'apowell2h@ucsd.edu', 'Christina Fields': 'cfields2i@wisc.edu', 'Ronald Wheeler': 'rwheeler2j@nydailynews.com', 'Mildred Sanchez': 'msanchez2k@berkeley.edu', 'Nicholas Hughes': 'nhughes2l@disqus.com', 'Harry Black': 'hblack2m@oracle.com', 'Wayne Torres': 'wtorres2n@ucoz.com', 'Robert Hunt': 'rhunt2o@unesco.org', 'Sarah Mills': 'smills2p@wikispaces.com', 'Bobby Taylor': 'btaylor2q@mozilla.com', 'Justin Gordon': 'jgordon2r@msu.edu', 'Theresa Wood': 'twood2s@storify.com', 'Larry Gilbert': 'lgilbert2t@jugem.jp', 'Mildred Graham': 'mgraham2u@smh.com.au', 'Juan Henry': 'jhenry2v@indiatimes.com', 'Walter Chavez': 'wchavez2w@tiny.cc', 'Joan Tucker': 'jtucker2x@merriam-webster.com', 'Daniel Flores': 'dflores2y@meetup.com', 'Willie Thompson': 'wthompson2z@goo.gl', 'Nicole Long': 'nlong30@addthis.com', 'Raymond Barnes': 'rbarnes31@whitehouse.gov', 'Judith Mason': 'jmason32@pbs.org', 'Matthew Fox': 'mfox33@mail.ru', 'Joan Andrews': 'jandrews34@dot.gov', 'Helen Nguyen': 'hnguyen35@domainmarket.com', 'Ruby Morgan': 'rmorganjo@umn.edu', 'Carolyn Elliott': 'celliott37@topsy.com', 'Shawn Wheeler': 'swheeler38@nature.com', 'Jean Simpson': 'jsimpson39@odnoklassniki.ru', 'Andrea Ortiz': 'aortiz3a@google.co.uk', 'Jose Medina': 'jmedina3b@tamu.edu', 'Lori Palmer': 'lpalmer3c@samsung.com', 'Diane Reed': 'dreed3d@delicious.com', 'Marilyn Boyd': 'mboyd3e@nydailynews.com', 'Jerry Fields': 'jfields3f@smugmug.com', 'Judy Ryan': 'jryan3g@blogtalkradio.com', 'Joseph Fernandez': 'jfernandez3h@npr.org', 'Rose Griffin': 'rgriffin3i@abc.net.au', 'Larry Marshall': 'lmarshall3j@qq.com', 'Gerald Miller': 'gmiller3k@marriott.com', 'Jesse Brooks': 'jbrooks3l@cyberchimps.com', 'Carolyn Hamilton': 'chamilton3m@cafepress.com', 'Margaret Mitchell': 'mmitchell3n@dailymail.co.uk', 'Maria Smith': 'msmith3o@mtv.com', 'Harry Shaw': 'hshaw3p@mysql.com', 'Anna Harrison': 'aharrison3q@hao123.com', 'Betty Tucker': 'btucker3r@w3.org', 'Christine Gomez': 'cgomez3s@cmu.edu', 'Antonio Morrison': 'amorrison3t@amazon.com', 'Howard Hunter': 'hhunter3u@livejournal.com', 'Kathryn Harper': 'kharper3v@hhs.gov', 'Laura Foster': 'lfoster3w@cloudflare.com', 'Ashley Watson': 'awatson3x@timesonline.co.uk', 'Christina Burton': 'cburton3y@miibeian.gov.cn', 'Diana Walker': 'dwalker3z@nymag.com', 'Cynthia Chapman': 'cchapman40@usa.gov', 'Linda Hart': 'lhart41@spotify.com', 'Jeremy Sanchez': 'jsanchez42@naver.com', 'Margaret Fox': 'mfox43@elegantthemes.com', 'Donald Stone': 'dstone44@cloudflare.com', 'Cynthia Howell': 'chowell45@networksolutions.com', 'Mark Moore': 'mmoore46@tinypic.com', 'Willie Johnston': 'wjohnston47@is.gd', 'Jack Knight': 'jknight48@usatoday.com', 'Raymond Watson': 'rwatson49@liveinternet.ru', 'Jesse Ford': 'jford4a@admin.ch', 'Michael Ellis': 'mellis4b@arizona.edu', 'Sara Cooper': 'scooper4c@blinklist.com', 'Carl Sims': 'csims4d@amazon.com', 'Jessica Vasquez': 'jvasquez4e@mashable.com', 'Betty Williamson': 'bwilliamson4f@prnewswire.com', 'John Morrison': 'jmorrison4g@state.gov', 'Teresa Watkins': 'twatkins4h@spiegel.de', 'Kevin Simmons': 'ksimmons4i@jiathis.com', 'Margaret Chavez': 'mchavezb7@clickbank.net', 'Thomas Reed': 'treed4k@wiley.com', 'Jesse Payne': 'jpayne4l@mysql.com', 'Cynthia Carroll': 'ccarroll4m@marketwatch.com', 'Ann Russell': 'arussell4n@psu.edu', 'Jason Hamilton': 'jhamilton4o@domainmarket.com', 'Frank Kelly': 'fkelly4p@skype.com', 'Jonathan Lawson': 'jlawson4q@tamu.edu', 'Frances Knight': 'fknight4r@disqus.com', 'Judy Coleman': 'jcoleman4s@google.de', 'Johnny King': 'jking4t@theglobeandmail.com', 'Jean Rivera': 'jrivera4u@deviantart.com', 'Phillip Lawson': 'plawson4v@storify.com', 'Catherine Coleman': 'ccoleman4w@dailymail.co.uk', 'Eugene Rivera': 'erivera4x@nydailynews.com', 'Sharon Gonzalez': 'sgonzalez4y@disqus.com', 'Bonnie Miller': 'bmiller4z@bluehost.com', 'Shirley Gomez': 'sgomez50@last.fm', 'Dennis Simpson': 'dsimpson51@google.co.uk', 'Stephanie Schmidt': 'sschmidt52@storify.com', 'Brandon Larson': 'blarson53@va.gov', 'Diana Myers': 'dmyers54@ucoz.ru', 'Donna Stevens': 'dstevens55@cisco.com', 'Kathleen Gutierrez': 'kgutierrez56@yahoo.com', 'Brenda Fernandez': 'bfernandez57@marketwatch.com', 'Jacqueline Perez': 'jperez58@house.gov', 'Todd Shaw': 'tshaw59@hud.gov', 'Craig Bradley': 'cbradley5a@cnet.com', 'Marie Patterson': 'mpatterson5b@stanford.edu', 'Janice Ryan': 'jryan5c@imgur.com', 'Kevin Coleman': 'kcoleman5d@freewebs.com', 'Philip Gibson': 'pgibson5e@bigcartel.com', 'Beverly Fields': 'bfields5f@histats.com', 'Annie Carroll': 'acarroll5g@plala.or.jp', 'Judy Nelson': 'jnelson5h@wiley.com', 'Marilyn Watkins': 'mwatkins5i@webs.com', 'David Williams': 'dwilliams5j@bing.com', 'Susan Ramos': 'sramos5k@phpbb.com', 'Judith Richards': 'jrichards5l@github.io', 'Fred Fisher': 'ffisher5m@rediff.com', 'Elizabeth Mason': 'emason5n@jimdo.com', 'Angela James': 'ajames5o@paypal.com', 'Cynthia Berry': 'cberry5p@oaic.gov.au', 'Cheryl Murray': 'cmurray5q@scribd.com', 'Pamela Schmidt': 'pschmidt5r@scientificamerican.com', 'Henry Willis': 'hwillis5s@state.tx.us', 'Ashley Brooks': 'abrooks5t@dedecms.com', 'Donna Morgan': 'dmorgan5u@free.fr', 'Catherine Bowman': 'cbowman5v@amazon.com', 'Earl Kennedy': 'ekennedy5w@4shared.com', 'Howard Murray': 'hmurray5x@irs.gov', 'Carlos Hamilton': 'chamilton5y@opera.com', 'Ruth Mitchell': 'rmitchell5z@ebay.co.uk', 'Juan Wallace': 'jwallace60@samsung.com', 'Richard Wilson': 'rwilson61@fc2.com', 'Denise Olson': 'dolson62@reuters.com', 'Steve Willis': 'swillis63@ted.com', 'Andrea Oliver': 'aoliver64@goo.gl', 'Martin Franklin': 'mfranklin65@squarespace.com', 'Dennis Moore': 'dmoore66@opensource.org', 'Susan White': 'swhite67@fc2.com', 'Ruth Ramos': 'rramos68@scribd.com', 'Chris Daniels': 'cdaniels69@foxnews.com', 'Russell Ryan': 'rryan6a@yolasite.com', 'Melissa Thompson': 'mthompson6b@oracle.com', 'Earl Lee': 'elee6c@theguardian.com', 'Carlos Pierce': 'cpierce6d@i2i.jp', 'Jonathan Lawrence': 'jlawrence6e@pcworld.com', 'Larry Oliver': 'loliver6f@jugem.jp', 'Kathy Cruz': 'kcruz6g@state.tx.us', 'Bonnie Stone': 'bstone6h@opera.com', 'Diane Kelley': 'dkelley6i@discuz.net', 'Christina Brown': 'cbrown6j@google.ca', 'Bruce Sanchez': 'bsanchez6k@umn.edu', 'Katherine Cox': 'kcox6l@yahoo.com', 'Patricia Freeman': 'pfreeman6m@gov.uk', 'Antonio Henry': 'ahenry6n@slate.com', 'Christopher Henderson': 'chenderson6o@nba.com', 'Sandra Woods': 'swoods6p@chron.com', 'Emily Torres': 'etorres6q@whitehouse.gov', 'Steven Stanley': 'sstanley6r@yale.edu', 'Christina Arnold': 'carnold6s@yahoo.com', 'Kevin Welch': 'kwelch6t@epa.gov', 'Maria Jacobs': 'mjacobs6u@themeforest.net', 'Gloria Freeman': 'gfreeman6v@hugedomains.com', 'Russell Gordon': 'rgordon6w@cbslocal.com', 'Pamela Carter': 'pcarter6x@utexas.edu', 'Roy Alvarez': 'ralvarez6y@home.pl', 'Michelle Williamson': 'mwilliamson6z@istockphoto.com', 'Anthony Hernandez': 'ahernandez70@simplemachines.org', 'Andrew Adams': 'aadams71@mlb.com', 'Jacqueline Medina': 'jmedina72@salon.com', 'Martin Reid': 'mreid73@ox.ac.uk', 'Sarah Palmer': 'spalmer74@istockphoto.com', 'Dennis Olson': 'dolson75@newyorker.com', 'Amanda Fowler': 'afowler76@forbes.com', 'Chris Perez': 'cperez77@si.edu', 'Phyllis Gonzalez': 'pgonzalez78@sina.com.cn', 'Gerald Anderson': 'ganderson79@hugedomains.com', 'Tammy Peterson': 'tpeterson7a@fda.gov', 'Stephanie Diaz': 'sdiaz7b@si.edu', 'Edward Burton': 'eburton7c@instagram.com', 'James Rodriguez': 'jrodriguez7d@linkedin.com', 'Earl Crawford': 'ecrawford7e@ed.gov', 'Willie Kim': 'wkim7f@netscape.com', 'Charles Harris': 'charris7g@comsenz.com', 'John Mills': 'jmills7h@ehow.com', 'Jacqueline Wheeler': 'jwheeler7i@scientificamerican.com', 'Fred Sims': 'fsims7j@delicious.com', 'Rebecca Garza': 'rgarza7k@elpais.com', 'Jimmy Palmer': 'jpalmer7l@pbs.org', 'Todd Olson': 'tolson7m@amazon.co.jp', 'Martha Elliott': 'melliott7n@fda.gov', 'Elizabeth Morgan': 'emorgan7o@free.fr', 'Paul Parker': 'pparker7p@usda.gov', 'Diana Sanders': 'dsanders7q@constantcontact.com', 'Debra Bell': 'dbell7r@mediafire.com', 'Carlos Wood': 'cwood7s@jugem.jp', 'Jesse Bradley': 'jbradley7t@1688.com', 'Maria Vasquez': 'mvasquezpy@nyu.edu', 'Jack Bell': 'jbell7v@telegraph.co.uk', 'Rachel Powell': 'rpowell7w@squidoo.com', 'Laura Anderson': 'landerson7x@1und1.de', 'Julia Willis': 'jwillis7y@google.fr', 'Tammy Castillo': 'tcastillo7z@etsy.com', 'Nicholas Taylor': 'ntaylor80@youtu.be', 'Annie Lane': 'alane81@addtoany.com', 'Melissa Watson': 'mwatson82@unblog.fr', 'Diana Berry': 'dberry83@omniture.com', 'Jack Thomas': 'jthomas84@vkontakte.ru', 'Phyllis Kennedy': 'pkennedy85@freewebs.com', 'Paul Elliott': 'pelliott86@multiply.com', 'Larry Nelson': 'lnelson87@unc.edu', 'Christine Wallace': 'cwallace88@soundcloud.com', 'Andrew Austin': 'aaustin89@upenn.edu', 'Henry Holmes': 'hholmes8a@comcast.net', 'Mary Murphy': 'mmurphy8b@bloglines.com', 'Cynthia Medina': 'cmedina8c@nature.com', 'Marie Davis': 'mdavis8d@tuttocitta.it', 'Deborah Olson': 'dolson8e@creativecommons.org', 'Paul Reyes': 'preyes8f@aol.com', 'Jean Brooks': 'jbrooks8g@shutterfly.com', 'Jacqueline Stephens': 'jstephens8h@123-reg.co.uk', 'Gary Richardson': 'grichardson8i@amazon.de', 'Kathryn Sanchez': 'ksanchez8j@aol.com', 'Pamela Hall': 'phall8k@geocities.jp', 'Harold Bishop': 'hbishopde@cbc.ca', 'Charles Kelly': 'ckelly8m@ihg.com', 'Jeremy Reid': 'jreid8n@meetup.com', 'Annie Greene': 'agreene8p@reuters.com', 'Annie Williams': 'awilliamscg@stanford.edu', 'Evelyn George': 'egeorge8r@soup.io', 'Carlos Frazier': 'cfrazier8s@guardian.co.uk', 'Joshua Smith': 'jsmith8t@wsj.com', 'Irene Perez': 'iperez8u@bloomberg.com', 'Judith Simpson': 'jsimpson8v@infoseek.co.jp', 'Theresa Cole': 'tcole8w@amazonaws.com', 'Ashley Campbell': 'acampbell8x@friendfeed.com', 'Dorothy Wheeler': 'dwheelera5@time.com', 'Rachel Cook': 'rcook8z@paginegialle.it', 'Nicholas Mitchell': 'nmitchell90@tinypic.com', 'Jose Fuller': 'jfuller91@xinhuanet.com', 'Mark Boyd': 'mboyd92@oakley.com', 'Denise Ward': 'dward93@hc360.com', 'Keith Lane': 'klane94@histats.com', 'Frank Lopez': 'flopez95@fda.gov', 'Wayne Boyd': 'wboyd96@china.com.cn', 'Louis Stanley': 'lstanley97@auda.org.au', 'Joan Bennett': 'jbennett98@kickstarter.com', 'Johnny Wallace': 'jwallace99@pen.io', 'Paul Day': 'pday9a@google.ru', 'Sharon Arnold': 'sarnold9b@lycos.com', 'David Reyes': 'dreyes9c@tinypic.com', 'Amy Smith': 'asmith9d@ifeng.com', 'Mildred Woods': 'mwoods9e@cornell.edu', 'Mildred Harvey': 'mharvey9f@gmpg.org', 'Kathleen Wells': 'kwells9g@dell.com', 'Nicholas Dunn': 'ndunn9h@nih.gov', 'Ruth Martin': 'rmartin9i@marriott.com', 'Teresa Powell': 'tpowell9j@microsoft.com', 'Steven Carpenter': 'scarpenter9k@imgur.com', 'Justin Fisher': 'jfisher9l@narod.ru', 'Ralph Carr': 'rcarr9m@linkedin.com', 'Beverly Diaz': 'bdiaz9n@ted.com', 'Nancy Henderson': 'nhenderson9o@ask.com', 'Steven Rivera': 'srivera9p@1und1.de', 'Bobby Alvarez': 'balvarez9q@webnode.com', 'Craig Wright': 'cwright9r@answers.com', 'Steve Henderson': 'shenderson9s@theguardian.com', 'Steve Cooper': 'scooper9t@sbwire.com', 'Joyce Myers': 'jmyers9u@theatlantic.com', 'Ryan Clark': 'rclark9v@zimbio.com', 'Ronald Taylor': 'rtaylor9w@e-recht24.de', 'Amy Ferguson': 'aferguson9x@mayoclinic.com', 'Jonathan Carter': 'jcarter9y@archive.org', 'Paul Crawford': 'pcrawford9z@infoseek.co.jp', 'Dennis Brown': 'dbrowna0@macromedia.com', 'Ann Hawkins': 'ahawkinsa1@theglobeandmail.com', 'Catherine Black': 'cblacka2@meetup.com', 'Alan Stewart': 'astewarta3@infoseek.co.jp', 'Ralph Jenkins': 'rjenkinsa4@mediafire.com', 'Ronald White': 'rwhitea6@reverbnation.com', 'Phyllis Graham': 'pgrahama7@microsoft.com', 'Jesse Armstrong': 'jarmstronga8@time.com', 'Denise Collins': 'dcollinsa9@wiley.com', 'Paul Cunningham': 'pcunninghamaa@dagondesign.com', 'Martin Bryant': 'mbryantab@japanpost.jp', 'Joe Gomez': 'jgomezac@ucoz.com', 'Helen Gardner': 'hgardnerad@indiegogo.com', 'Peter Owens': 'powensae@who.int', 'Anthony Robinson': 'arobinsonaf@jugem.jp', 'Judy Wells': 'jwellsag@jigsy.com', 'Carl Kennedy': 'ckennedyah@vk.com', 'Albert Hicks': 'ahicksai@feedburner.com', 'Doris Burns': 'dburnsaj@boston.com', 'Frank Cox': 'fcoxak@ucla.edu', 'Deborah Lane': 'dlaneal@cargocollective.com', 'Bruce Garza': 'bgarzaam@adobe.com', 'Judith Simmons': 'jsimmonsan@nasa.gov', 'Brandon Reed': 'breedao@answers.com', 'Annie Moore': 'amooreap@dion.ne.jp', 'Lois Gilbert': 'lgilbertaq@ft.com', 'Doris Lynch': 'dlynchar@arstechnica.com', 'Victor Harrison': 'vharrisonas@sakura.ne.jp', 'Jane Perry': 'jperryat@ucla.edu', 'Adam Price': 'apriceau@miitbeian.gov.cn', 'Gloria Walker': 'gwalkerav@thetimes.co.uk', 'Debra Mcdonald': 'dmcdonaldaw@blogspot.com', 'Carol Sanders': 'csandersax@sbwire.com', 'Virginia Stephens': 'vstephensay@earthlink.net', 'Shawn Perry': 'sperryaz@blinklist.com', 'Diane Williams': 'dwilliamsb0@examiner.com', 'Raymond Gilbert': 'rgilbertb1@theatlantic.com', 'Janice Burns': 'jburnsb2@nba.com', 'Benjamin Daniels': 'bdanielsb3@phpbb.com', 'Dorothy Griffin': 'dgriffinb4@zdnet.com', 'Alice Little': 'alittleb5@last.fm', 'Fred Medina': 'fmedinab6@xing.com', 'Judith Bryant': 'jbryantb8@youtu.be', 'Deborah Wells': 'dwellsb9@businessweek.com', 'Johnny Peters': 'jpetersba@youtube.com', 'Kathleen Hunt': 'khuntbb@usa.gov', 'Carolyn Martin': 'cmartinbc@bloomberg.com', 'Carl Lopez': 'clopezbd@theatlantic.com', 'Richard Wright': 'rwrightbe@quantcast.com', 'Louis Peters': 'lpetersbf@upenn.edu', 'Shawn Reynolds': 'sreynoldsbg@ucla.edu', 'Martin Barnes': 'mbarnesbh@youtube.com', 'Janet Gomez': 'jgomezbi@tuttocitta.it', 'Andrew Young': 'ayoungbj@usa.gov', 'Thomas Washington': 'twashingtonbk@facebook.com', 'Angela Carpenter': 'acarpenterbl@bloglines.com', 'Elizabeth Miller': 'emillerbm@t.co', 'Wanda Torres': 'wtorresbn@squarespace.com', 'Marilyn Meyer': 'mmeyerbo@engadget.com', 'Ralph Wheeler': 'rwheelerbp@instagram.com', 'Gary Simmons': 'gsimmonsbq@nationalgeographic.com', 'Ralph Bishop': 'rbishopbr@facebook.com', 'Theresa Tucker': 'ttuckerbs@sitemeter.com', 'Karen Lopez': 'klopezbt@chicagotribune.com', 'Jennifer Dunn': 'jdunnbu@whitehouse.gov', 'Joseph Hansen': 'jhansenbv@smugmug.com', 'Jason Olson': 'jolsonbw@techcrunch.com', 'Eric Boyd': 'eboydbx@indiatimes.com', 'Jerry Castillo': 'jcastilloby@dell.com', 'Judy Hunt': 'jhuntbz@shinystat.com', 'Jacqueline Hudson': 'jhudsonc0@flavors.me', 'Amanda Cole': 'acolec1@prlog.org', 'Scott Kennedy': 'skennedyc2@wordpress.org', 'Marilyn Lane': 'mlanec3@ibm.com', 'Anthony Miller': 'amillerc4@t-online.de', 'Amy Flores': 'afloresc5@usa.gov', 'Ruby Fuller': 'rfullerc6@wsj.com', 'Ernest Freeman': 'efreemanc7@live.com', 'Donna Morris': 'dmorrisc8@ebay.com', 'Diana Gomez': 'dgomezc9@sciencedaily.com', 'Fred Franklin': 'ffranklinca@cyberchimps.com', 'Janet Alexander': 'jalexandercb@blogtalkradio.com', 'Eric Mccoy': 'emccoycc@geocities.com', 'Harry Gonzales': 'hgonzalescd@blogger.com', 'Sandra Marshall': 'smarshallce@bluehost.com', 'Brandon Evans': 'bevanscf@washingtonpost.com', 'George Arnold': 'garnoldch@123-reg.co.uk', 'Wanda Fernandez': 'wfernandezci@google.it', 'Alan Simpson': 'asimpsoncj@dedecms.com', 'Donald Cook': 'dcookex@discuz.net', 'Julie Larson': 'jlarsoncl@stumbleupon.com', 'Keith Ruiz': 'kruizcm@google.nl', 'Wanda Myers': 'wmyerscn@nba.com', 'David Fowler': 'dfowlerco@4shared.com', 'Brian Arnold': 'barnoldcp@is.gd', 'Joe Payne': 'jpaynecq@dedecms.com', 'Ruby Alexander': 'ralexandercr@adobe.com', 'Martha Edwards': 'medwardscs@shinystat.com', 'Brandon Henderson': 'bhendersonct@ebay.co.uk', 'Kelly Hall': 'khallcu@phoca.cz', 'Robert Austin': 'raustincv@exblog.jp', 'Richard Reynolds': 'rreynoldscw@forbes.com', 'Scott Castillo': 'scastillocx@zimbio.com', 'Aaron Hernandez': 'ahernandezcy@jugem.jp', 'Billy Hall': 'bhallcz@nature.com', 'Jason Lynch': 'jlynchd0@smh.com.au', 'Eugene Smith': 'esmithd1@sun.com', 'Jane Burns': 'jburnsd2@ed.gov', 'Kimberly Russell': 'krusselld3@example.com', 'Michelle Cole': 'mcoled4@webnode.com', 'Sandra Johnston': 'sjohnstond5@behance.net', 'Chris Powell': 'cpowelld6@instagram.com', 'Elizabeth Lee': 'eleed7@rakuten.co.jp', 'Amy Adams': 'aadamsd8@bbc.co.uk', 'Betty Wright': 'bwrightd9@cyberchimps.com', 'Roy Harper': 'rharperda@ustream.tv', 'Kimberly Elliott': 'kelliottdb@cornell.edu', 'Jennifer King': 'jkingdc@ucoz.ru', 'Anna Robinson': 'arobinsondd@uol.com.br', 'Bruce Perkins': 'bperkinsdf@fda.gov', 'Johnny Torres': 'jtorresdg@microsoft.com', 'Kathryn Fuller': 'kfullerdh@paginegialle.it', 'Thomas Mcdonald': 'tmcdonalddi@spiegel.de', 'Carol Stone': 'cstonedj@mapy.cz', 'Brian Black': 'bblackdk@twitpic.com', 'Carolyn Mason': 'cmasondl@theglobeandmail.com', 'Judith George': 'jgeorgedm@purevolume.com', 'Charles Weaver': 'cweaverdn@google.co.jp', 'Adam Bryant': 'abryantdo@vinaora.com', 'James Turner': 'jturnerdp@zimbio.com', 'Tina Brown': 'tbrowndq@samsung.com', 'Charles Flores': 'cfloresdr@census.gov', 'Laura Dean': 'ldeands@paginegialle.it', 'Frances Allen': 'fallendt@nydailynews.com', 'Brenda Schmidt': 'bschmidtdu@is.gd', 'Frank Fuller': 'ffullerdv@reuters.com', 'Robin Henderson': 'rhendersondw@tmall.com', 'George Banks': 'gbanksdx@skype.com', 'Rose Snyder': 'rsnyderdy@hexun.com', 'Juan Adams': 'jadamsdz@lulu.com', 'Heather Harrison': 'hharrisone0@msn.com', 'Kelly West': 'kweste1@mac.com', 'Ruth Jones': 'rjonese2@toplist.cz', 'Julie Henderson': 'jhendersone3@hatena.ne.jp', 'Antonio Kelly': 'akellye4@xing.com', 'Kimberly Willis': 'kwillise5@ning.com', 'Gary Stevens': 'gstevense6@com.com', 'Arthur Ryan': 'aryane7@ebay.co.uk', 'Virginia Johnston': 'vjohnstone8@gnu.org', 'Katherine Rose': 'krosee9@un.org', 'Nicholas Gibson': 'ngibsonea@theguardian.com', 'Frank Cooper': 'fcoopereb@usda.gov', 'Robert Holmes': 'rholmesec@google.nl', 'Evelyn Green': 'egreened@e-recht24.de', 'Samuel Ryan': 'sryanee@washingtonpost.com', 'Bruce Coleman': 'bcolemanef@yolasite.com', 'Elizabeth Hart': 'eharteg@sfgate.com', 'Jessica Fernandez': 'jfernandezeh@nsw.gov.au', 'Daniel Berry': 'dberryei@google.com.au', 'Matthew Myers': 'mmyersej@ftc.gov', 'Jose Carroll': 'jcarrollek@hibu.com', 'Thomas Payne': 'tpayneel@narod.ru', 'Steven White': 'swhiteem@de.vu', 'Gary Garrett': 'ggarretten@mapquest.com', 'Christine Nelson': 'cnelsoneo@unicef.org', 'Jessica Berry': 'jberryep@hubpages.com', 'Andrea Webb': 'awebbeq@google.com.hk', 'Kelly Gonzalez': 'kgonzalezer@yellowpages.com', 'Maria Reed': 'mreedes@economist.com', 'Marie Thomas': 'mthomaset@senate.gov', 'Douglas Carter': 'dcartereu@nbcnews.com', 'Roger Fernandez': 'rfernandezev@nature.com', 'Roger Green': 'rgreenew@dyndns.org', 'Keith Olson': 'kolsoney@berkeley.edu', 'Russell Mcdonald': 'rmcdonaldez@printfriendly.com', 'Stephen Frazier': 'sfrazierf0@apple.com', 'Douglas Kelley': 'dkelleyf1@lulu.com', 'Phillip Rodriguez': 'prodriguezf2@statcounter.com', 'Kimberly Montgomery': 'kmontgomeryf3@linkedin.com', 'Joseph Schmidt': 'jschmidtf4@google.es', 'Denise Howell': 'dhowellf5@ameblo.jp', 'Kimberly Moore': 'kmooref6@xrea.com', 'Wanda Reid': 'wreidf7@uiuc.edu', 'Randy Fowler': 'rfowlerf8@zdnet.com', 'Ruth Bennett': 'rbennettf9@delicious.com', 'Randy Wells': 'rwellsfa@tripod.com', 'Rebecca Hughes': 'rhughesfb@dot.gov', 'Rebecca Ross': 'rrossfc@sogou.com', 'Christina Vasquez': 'cvasquezfd@bbc.co.uk', 'Russell Kennedy': 'rkennedyfe@vimeo.com', 'Rebecca Frazier': 'rfrazierff@japanpost.jp', 'Christopher Rice': 'cricefg@dedecms.com', 'Phyllis Hill': 'phillfh@msu.edu', 'Heather Evans': 'hevansfi@hibu.com', 'Terry Freeman': 'tfreemanfj@nasa.gov', 'Phillip Brooks': 'pbrooksfk@devhub.com', 'Keith Sims': 'ksimsfl@dailymotion.com', 'Bruce Mendoza': 'bmendozafm@youtube.com', 'Victor Payne': 'vpaynefn@myspace.com', 'Jane Anderson': 'jandersonfo@chron.com', 'Henry Duncan': 'hduncanfp@github.com', 'Jerry Hamilton': 'jhamiltonfq@huffingtonpost.com', 'Rebecca Wright': 'rwrightfr@arstechnica.com', 'Janet Franklin': 'jfranklinfs@google.cn', 'Anthony Dean': 'adeanft@patch.com', 'Judith Payne': 'jpaynefu@free.fr', 'Kenneth Jackson': 'kjacksonfv@google.it', 'Teresa Larson': 'tlarsonfw@stumbleupon.com', 'Heather Shaw': 'hshawfx@jimdo.com', 'Ryan Stanley': 'rstanleyfy@tiny.cc', 'Joseph Howard': 'jhowardfz@whitehouse.gov', 'Stephen Berry': 'sberryg0@state.gov', 'Willie Harrison': 'wharrisong1@instagram.com', 'Randy Sanders': 'rsandersg2@ca.gov', 'Betty Garza': 'bgarzag3@va.gov', 'Jessica Olson': 'jolsong4@cnet.com', 'Scott Nelson': 'snelsong5@indiatimes.com', 'Earl Lopez': 'elopezg6@latimes.com', 'Anne Porter': 'aporterg7@cbsnews.com', 'Theresa Brooks': 'tbrooksg8@noaa.gov', 'Wanda Kelly': 'wkellyg9@hostgator.com', 'Ernest Kelly': 'ekellyga@ocn.ne.jp', 'Anne Banks': 'abanksgb@independent.co.uk', 'Edward Ortiz': 'eortizgc@webmd.com', 'Phillip Carroll': 'pcarrollgd@dion.ne.jp', 'Larry Myers': 'lmyersge@utexas.edu', 'Harry Tucker': 'htuckergf@blogger.com', 'Mary Garcia': 'mgarciagg@sourceforge.net', 'Katherine Day': 'kdaygh@github.com', 'Lisa White': 'lwhitegi@behance.net', 'David Reid': 'dreidgj@purevolume.com', 'Catherine Ramos': 'cramosgk@nationalgeographic.com', 'Jane Lee': 'jleegl@businessinsider.com', 'Karen Morales': 'kmoralesgm@si.edu', 'Alice Miller': 'amillergn@altervista.org', 'Willie Marshall': 'wmarshallgo@macromedia.com', 'Gloria Griffin': 'ggriffingp@independent.co.uk', 'Phyllis Vasquez': 'pvasquezgq@over-blog.com', 'Ruth Burns': 'rburnsgr@exblog.jp', 'Mary Nguyen': 'mnguyengs@twitpic.com', 'Michelle Kelley': 'mkelleygt@storify.com', 'Barbara Richardson': 'brichardsongu@webnode.com', 'Brenda Moreno': 'bmorenogv@hatena.ne.jp', 'Phyllis Clark': 'pclarkgw@buzzfeed.com', 'Doris Grant': 'dgrantgx@bbb.org', 'Jeremy Thomas': 'jthomasgy@jiathis.com', 'Peter Edwards': 'pedwardsgz@arizona.edu', 'Matthew Green': 'mgreenh0@microsoft.com', 'Randy Griffin': 'rgriffinh1@ycombinator.com', 'Marie Bowman': 'mbowmanh2@bing.com', 'Virginia Fernandez': 'vfernandezh3@canalblog.com', 'Gloria Diaz': 'gdiazh4@java.com', 'Gary Nguyen': 'gnguyenh5@rambler.ru', 'Richard Richards': 'rrichardsh6@salon.com', 'Carl Hansen': 'chansenh7@qq.com', 'Arthur Jones': 'ajonesh8@gnu.org', 'Doris Barnes': 'dbarnesh9@google.nl', 'Earl Miller': 'emillerha@army.mil', 'Jennifer Shaw': 'jshawhb@barnesandnoble.com', 'Frances Bennett': 'fbennetthc@europa.eu', 'Aaron Coleman': 'acolemanhd@sitemeter.com', 'Mildred Butler': 'mbutlerhe@privacy.gov.au', 'Jose Hart': 'jhartir@google.pl', 'Angela Hernandez': 'ahernandezhg@mozilla.org', 'Ruth Allen': 'rallenhh@merriam-webster.com', 'Todd Coleman': 'tcolemanhi@linkedin.com', 'Andrea Ross': 'arosshj@domainmarket.com', 'Andrew Banks': 'abankshk@cyberchimps.com', 'Charles Romero': 'cromerohl@statcounter.com', 'Robin Spencer': 'rspencerhm@ihg.com', 'Scott Ramirez': 'sramirezhn@yelp.com', 'Robert Greene': 'rgreeneho@amazon.de', 'Mark Scott': 'mscotthp@bbc.co.uk', 'Gloria Hudson': 'ghudsonhq@goo.gl', 'Betty Hunt': 'bhunthr@intel.com', 'Elizabeth Wagner': 'ewagnerhs@plala.or.jp', 'Lori Kelly': 'lkellyht@blog.com', 'Ruth Black': 'rblackhu@hud.gov', 'Deborah Richardson': 'drichardsonhv@msn.com', 'Kimberly James': 'kjameshw@jiathis.com', 'Elizabeth Sanchez': 'esanchezhx@woothemes.com', 'Alice Oliver': 'aoliverhy@spotify.com', 'Denise Henderson': 'dhendersonhz@ebay.co.uk', 'Lillian Wood': 'lwoodi0@sbwire.com', 'Laura Marshall': 'lmarshalli1@nba.com', 'Henry Patterson': 'hpattersoni2@joomla.org', 'Nancy Mills': 'nmillsi3@163.com', 'Christine Thomas': 'cthomasi4@cdc.gov', 'Andrea Myers': 'amyersi5@google.ca', 'Philip Henderson': 'phendersoni6@salon.com', 'Nancy Bryant': 'nbryanti7@a8.net', 'Richard Wallace': 'rwallacei8@flickr.com', 'Scott Collins': 'scollinsi9@dot.gov', 'Edward Adams': 'eadamsia@wordpress.org', 'Wanda Ross': 'wrossib@wordpress.com', 'Bruce Owens': 'bowensic@ebay.co.uk', 'Willie Simpson': 'wsimpsonid@wp.com', 'Kelly Stevens': 'kstevensie@reference.com', 'Janet Medina': 'jmedinaif@msn.com', 'Anthony Mccoy': 'amccoyig@bandcamp.com', 'Marie Romero': 'mromeroih@springer.com', 'Debra Garrett': 'dgarrettii@cornell.edu', 'Nancy Gonzalez': 'ngonzalezij@cpanel.net', 'Judith Marshall': 'jmarshallik@phoca.cz', 'Wanda Watson': 'wwatsonil@linkedin.com', 'Aaron Matthews': 'amatthewsim@walmart.com', 'Todd Matthews': 'tmatthewsin@europa.eu', 'Anna Robertson': 'arobertsonio@jimdo.com', 'Maria Hughes': 'mhughesip@over-blog.com', 'Jane Richards': 'jrichardsiq@mit.edu', 'Scott Berry': 'sberryis@pinterest.com', 'Todd Willis': 'twillisit@ustream.tv', 'Brian Castillo': 'bcastilloiu@macromedia.com', 'Arthur Henry': 'ahenryiv@java.com', 'Victor Bowman': 'vbowmaniw@hubpages.com', 'Joshua Nguyen': 'jnguyenix@howstuffworks.com', 'Carlos Gray': 'cgrayiy@epa.gov', 'Tammy Harrison': 'tharrisoniz@vk.com', 'Ashley Foster': 'afosterj0@sakura.ne.jp', 'Stephanie Richards': 'srichardsj1@netvibes.com', 'Janet Cox': 'jcoxj2@stanford.edu', 'Ryan Garza': 'rgarzaj3@thetimes.co.uk', 'Amy Gilbert': 'agilbertj4@123-reg.co.uk', 'Jacqueline Cook': 'jcookj5@aboutads.info', 'Wayne Nelson': 'wnelsonj6@gnu.org', 'Willie Young': 'wyoungj7@seattletimes.com', 'Jose Grant': 'jgrantj8@ft.com', 'Joseph Parker': 'jparkerj9@indiatimes.com', 'Heather Snyder': 'hsnyderja@weibo.com', 'Amy Peters': 'apetersjb@eventbrite.com', 'Lawrence Gardner': 'lgardnerjc@cnn.com', 'Carlos Reed': 'creedjd@lulu.com', 'Linda Fisher': 'lfisherje@about.me', 'Raymond Banks': 'rbanksjf@gmpg.org', 'Lawrence Fernandez': 'lfernandezjg@exblog.jp', 'Andrew Sanders': 'asandersjh@ebay.co.uk', 'Elizabeth Carpenter': 'ecarpenterji@reverbnation.com', 'Pamela Gibson': 'pgibsonjj@whitehouse.gov', 'Howard Edwards': 'hedwardsjk@mlb.com', 'Marilyn Weaver': 'mweaverjl@artisteer.com', 'Robert Lynch': 'rlynchjm@slashdot.org', 'Angela Bryant': 'abryantjn@example.com', 'David Burns': 'dburnsjp@sohu.com', 'Larry Cook': 'lcookjq@loc.gov', 'Steve Burke': 'sburkejr@spiegel.de', 'Brenda Hamilton': 'bhamiltonjs@g.co', 'Frances Hanson': 'fhansonjt@gnu.org', 'Bonnie Sanchez': 'bsanchezju@imageshack.us', 'Virginia Banks': 'vbanksjv@google.nl', 'Larry Jenkins': 'ljenkinsjw@youtu.be', 'Julie Willis': 'jwillisjx@narod.ru', 'Susan Perkins': 'sperkinsjy@illinois.edu', 'Anna Powell': 'apowelljz@berkeley.edu', 'Angela Rogers': 'arogersk0@hubpages.com', 'Marie Stanley': 'mstanleyk1@hubpages.com', 'Judy Sullivan': 'jsullivank2@t.co', 'Larry Alvarez': 'lalvarezk3@toplist.cz', 'John Simmons': 'jsimmonsk4@ocn.ne.jp', 'Martin Moore': 'mmoorek5@icq.com', 'Wanda Hunt': 'whuntk6@wikipedia.org', 'David Hunter': 'dhunterk7@kickstarter.com', 'Scott Gonzales': 'sgonzalesk8@digg.com', 'Donna Reyes': 'dreyesk9@storify.com', 'Catherine Mccoy': 'cmccoyka@google.it', 'Andrea Ellis': 'aelliskb@discovery.com', 'Donald Watson': 'dwatsonkc@biblegateway.com', 'Kevin Miller': 'kmillerkd@prnewswire.com', 'Russell Romero': 'rromeroke@diigo.com', 'Phillip Duncan': 'pduncankf@surveymonkey.com', 'Joyce Alvarez': 'jalvarezkg@noaa.gov', 'Arthur Ross': 'arosskh@github.io', 'Richard Lawson': 'rlawsonki@paginegialle.it', 'Emily Williamson': 'ewilliamsonkj@apple.com', 'Scott Jenkins': 'sjenkinskk@clickbank.net', 'Dennis Scott': 'dscottkl@reference.com', 'Dennis Chavez': 'dchavezkm@google.es', 'Jean Olson': 'jolsonkn@msu.edu', 'Howard Marshall': 'hmarshallko@123-reg.co.uk', 'Philip Ferguson': 'pfergusonkp@unesco.org', 'Brenda Mills': 'bmillskq@sohu.com', 'Barbara Fuller': 'bfullerkr@symantec.com', 'Mary Little': 'mlittleks@jugem.jp', 'Sandra Hall': 'shallkt@dion.ne.jp', 'Nancy Fernandez': 'nfernandezku@wp.com', 'Sharon Shaw': 'sshawkv@liveinternet.ru', 'Earl Coleman': 'ecolemankw@sun.com', 'Clarence Torres': 'ctorreskx@hibu.com', 'Sarah Chapman': 'schapmanky@biglobe.ne.jp', 'Terry Rivera': 'triverakz@ezinearticles.com', 'Bonnie Owens': 'bowensl0@fotki.com', 'Albert Robinson': 'arobinsonr2@taobao.com', 'Peter Lewis': 'plewisl2@squidoo.com', 'Jeffrey Collins': 'jcollinsl3@list-manage.com', 'Lori Edwards': 'ledwardsl4@accuweather.com', 'Ernest Grant': 'egrantl5@google.nl', 'Wanda Rogers': 'wrogersl6@fema.gov', 'Beverly Kim': 'bkiml7@deliciousdays.com', 'Henry Morgan': 'hmorganl8@ft.com', 'Robert Watkins': 'rwatkinsl9@yellowpages.com', 'Sara Schmidt': 'sschmidtla@vimeo.com', 'Eric Shaw': 'eshawlb@mediafire.com', 'Diana Simmons': 'dsimmonslc@icq.com', 'John Patterson': 'jpattersonld@telegraph.co.uk', 'Joe Nelson': 'jnelsonle@prweb.com', 'Jesse Boyd': 'jboydlf@hc360.com', 'Craig Roberts': 'crobertslg@nasa.gov', 'Randy Martin': 'rmartinlh@sina.com.cn', 'Christine Morgan': 'cmorganli@cafepress.com', 'Antonio Gonzalez': 'agonzalezlj@nba.com', 'Brandon Ryan': 'bryanlk@loc.gov', 'Wanda Diaz': 'wdiazll@youtu.be', 'Kathryn Little': 'klittlelm@yandex.ru', 'Todd Hicks': 'thicksln@bloglovin.com', 'Jesse Hunt': 'jhuntlo@diigo.com', 'Gregory Graham': 'ggrahamlp@pagesperso-orange.fr', 'Judy Washington': 'jwashingtonlq@cam.ac.uk', 'Sean Hudson': 'shudsonlr@mediafire.com', 'Paul Daniels': 'pdanielsls@wp.com', 'Cynthia Reid': 'creidlt@over-blog.com', 'Norma Lawson': 'nlawsonlu@bbc.co.uk', 'Jacqueline Payne': 'jpaynelv@altervista.org', 'Joan Watson': 'jwatsonlw@blog.com', 'Kevin Elliott': 'kelliottlx@blogger.com', 'Arthur Anderson': 'aandersonly@bluehost.com', 'Cheryl Brooks': 'cbrookslz@digg.com', 'Ruby Marshall': 'rmarshallm0@webmd.com', 'Barbara Burns': 'bburnsm1@networksolutions.com', 'Donald Snyder': 'dsnyderm2@walmart.com', 'Willie Foster': 'wfosterm3@nih.gov', 'Debra Stewart': 'dstewartm4@harvard.edu', 'Edward Gray': 'egraym5@scientificamerican.com', 'Richard Bradley': 'rbradleym6@soundcloud.com', 'Anna Lopez': 'alopezm7@opera.com', 'Christopher George': 'cgeorgem8@google.nl', 'Tina Romero': 'tromerom9@upenn.edu', 'Jesse Riley': 'jrileyma@wikia.com', 'Irene Andrews': 'iandrewsmb@unblog.fr', 'Jack Jackson': 'jjacksonmc@cdc.gov', 'Paula Hayes': 'phayesmd@census.gov', 'Gloria Harper': 'gharperme@ehow.com', 'Michael Wheeler': 'mwheelermf@psu.edu', 'Louise Arnold': 'larnoldmg@nbcnews.com', 'Keith Lynch': 'klynchmh@sun.com', 'Daniel Welch': 'dwelchmi@bravesites.com', 'Phillip Reed': 'preedmj@cmu.edu', 'Donna Foster': 'dfostermk@nih.gov', 'Howard Brown': 'hbrownml@studiopress.com', 'Kenneth Kennedy': 'kkennedymm@webmd.com', 'Clarence Morgan': 'cmorganmn@issuu.com', 'Barbara Brown': 'bbrownmo@ihg.com', 'Jeremy Harvey': 'jharveymp@addthis.com', 'Joan Cooper': 'jcoopermq@github.io', 'Thomas Henderson': 'thendersonmr@bluehost.com', 'Scott Sanchez': 'ssanchezms@discuz.net', 'Ann Berry': 'aberrymt@google.com', 'Shawn Johnston': 'sjohnstonmu@vinaora.com', 'Gloria Ellis': 'gellismv@wiley.com', 'Jerry Dixon': 'jdixonmw@istockphoto.com', 'Susan Mendoza': 'smendozamx@nifty.com', 'Robin Murray': 'rmurraymy@slashdot.org', 'Brenda Garrett': 'bgarrettmz@accuweather.com', 'Roger Webb': 'rwebbn0@woothemes.com', 'Tammy Boyd': 'tboydn1@instagram.com', 'Paul Armstrong': 'parmstrongn2@wired.com', 'Rebecca Weaver': 'rweavern3@cisco.com', 'Doris Dixon': 'ddixonn4@csmonitor.com', 'Kathy Cooper': 'kcoopern5@google.es', 'Johnny Ryan': 'jryann6@ibm.com', 'Barbara Banks': 'bbanksn7@sitemeter.com', 'Carol Baker': 'cbakern8@slashdot.org', 'Joan Webb': 'jwebbn9@discovery.com', 'Betty King': 'bkingna@bloomberg.com', 'Scott Alexander': 'salexandernb@globo.com', 'Jimmy Andrews': 'jandrewsnc@yelp.com', 'Michelle Tucker': 'mtuckernd@timesonline.co.uk', 'Patrick Burke': 'pburkene@plala.or.jp', 'Tina Morris': 'tmorrisnf@lycos.com', 'James Gibson': 'jgibsonng@google.com', 'Russell Lawrence': 'rlawrencenh@ovh.net', 'Gloria Baker': 'gbakerni@cloudflare.com', 'Teresa Armstrong': 'tarmstrongnj@cloudflare.com', 'Catherine Gardner': 'cgardnernk@dell.com', 'Donna Hicks': 'dhicksnl@microsoft.com', 'Michelle Robertson': 'mrobertsonnm@youtube.com', 'Kevin Willis': 'kwillisnn@printfriendly.com', 'Russell Morgan': 'rmorganno@fc2.com', 'Jerry Rogers': 'jrogersnp@furl.net', 'Robin Stevens': 'rstevensnq@reddit.com', 'George Mendoza': 'gmendozanr@angelfire.com', 'Lori Lopez': 'llopezns@disqus.com', 'Barbara Wallace': 'bwallacent@wikia.com', 'Heather Hill': 'hhillnu@technorati.com', 'Juan Day': 'jdaynv@mapquest.com', 'Thomas Lee': 'tleenw@apple.com', 'Larry Russell': 'lrussellnx@addtoany.com', 'Thomas Sanders': 'tsandersny@samsung.com', 'Lawrence Bishop': 'lbishopnz@wikipedia.org', 'Nicole Green': 'ngreeno0@ask.com', 'Roy Ramos': 'rramoso1@umn.edu', 'Anna Reid': 'areido2@blog.com', 'Lawrence Gibson': 'lgibsonqf@usda.gov', 'Jennifer Fisher': 'jfishero4@unicef.org', 'Richard Long': 'rlongo5@mtv.com', 'Larry Flores': 'lfloreso6@time.com', 'Robert Oliver': 'rolivero7@com.com', 'Marie Shaw': 'mshawo8@zimbio.com', 'Chris Fernandez': 'cfernandezo9@issuu.com', 'Justin Long': 'jlongoa@stanford.edu', 'Gary Ford': 'gfordob@about.com', 'Tammy Rogers': 'trogersoc@unicef.org', 'Janice Gilbert': 'jgilbertod@nba.com', 'Ryan Romero': 'rromerooe@mozilla.org', 'Brandon Harrison': 'bharrisonof@fc2.com', 'Mildred Nichols': 'mnicholsog@cornell.edu', 'David Riley': 'drileyoh@boston.com', 'Bobby Ellis': 'bellisoi@technorati.com', 'Janice Garrett': 'jgarrettoj@yolasite.com', 'Antonio Gardner': 'agardnerok@usnews.com', 'Kathleen Carter': 'kcarterol@nymag.com', 'Andrew Garrett': 'agarrettom@pinterest.com', 'Richard Coleman': 'rcolemanon@amazonaws.com', 'Donna Perry': 'dperryoo@bloomberg.com', 'Eric Griffin': 'egriffinop@wikia.com', 'Ruby Brown': 'rbrownoq@a8.net', 'Mildred Jenkins': 'mjenkinsor@ft.com', 'Jonathan Wells': 'jwellsos@dailymotion.com', 'Marilyn Chapman': 'mchapmanot@sourceforge.net', 'Andrea Howell': 'ahowellou@lycos.com', 'Andrew Andrews': 'aandrewsov@livejournal.com', 'Eric Stephens': 'estephensow@tiny.cc', 'Russell Berry': 'rberryox@goo.ne.jp', 'Gerald Shaw': 'gshawoy@irs.gov', 'Kathleen Franklin': 'kfranklinoz@soundcloud.com', 'Shirley King': 'skingp0@google.ca', 'Kimberly Martin': 'kmartinp1@google.com.hk', 'Nicholas Lewis': 'nlewisp2@w3.org', 'Margaret Riley': 'mrileyp3@google.com.au', 'Matthew Elliott': 'melliottp4@squidoo.com', 'Antonio Fuller': 'afullerp5@msn.com', 'Amy Collins': 'acollinsp6@time.com', 'James Chavez': 'jchavezp7@archive.org', 'Dennis Howard': 'dhowardp8@theatlantic.com', 'Angela Peterson': 'apetersonp9@harvard.edu', 'Sharon Richardson': 'srichardsonpa@goo.ne.jp', 'Nicole Adams': 'nadamspb@ocn.ne.jp', 'Donna Johnson': 'djohnsonpc@amazonaws.com', 'Annie Wells': 'awellspd@pcworld.com', 'Alice Romero': 'aromerope@twitter.com', 'Gary Hernandez': 'ghernandezpf@joomla.org', 'Ruby Hayes': 'rhayespg@photobucket.com', 'Norma Dean': 'ndeanph@taobao.com', 'Andrea Day': 'adaypi@live.com', 'Andrea Kelly': 'akellypj@tuttocitta.it', 'Jennifer Bailey': 'jbaileypk@mapy.cz', 'Craig Ortiz': 'cortizpl@cisco.com', 'Eugene Armstrong': 'earmstrongpm@cornell.edu', 'Kathryn Stone': 'kstonepn@free.fr', 'Clarence Hicks': 'chickspo@yelp.com', 'Jean Anderson': 'jandersonpp@guardian.co.uk', 'Martha Olson': 'molsonpq@facebook.com', 'Patrick Young': 'pyoungpr@aol.com', 'Peter Fields': 'pfieldsps@addthis.com', 'Dorothy Spencer': 'dspencerpt@biglobe.ne.jp', 'Jason Hart': 'jhartpu@parallels.com', 'Nicholas Morris': 'nmorrispv@army.mil', 'Patricia Hayes': 'phayespw@flavors.me', 'Ashley Wheeler': 'awheelerpx@reuters.com', 'Sharon Ryan': 'sryanpz@google.co.jp', 'Richard Evans': 'revansq0@europa.eu', 'Clarence Davis': 'cdavisq1@ehow.com', 'Gregory Bowman': 'gbowmanq2@clickbank.net', 'Frances Robinson': 'frobinsonq3@joomla.org', 'Dennis Bell': 'dbellq4@blogspot.com', 'Daniel Jackson': 'djacksonq5@yolasite.com', 'Kimberly Evans': 'kevansq6@ameblo.jp', 'Shawn Kelly': 'skellyq7@tiny.cc', 'Karen Stanley': 'kstanleyq8@tmall.com', 'Emily Ruiz': 'eruizq9@msu.edu', 'Eric Cooper': 'ecooperqa@facebook.com', 'Billy Carter': 'bcarterqb@issuu.com', 'Deborah Hart': 'dhartqc@craigslist.org', 'Steven Jones': 'sjonesqd@washingtonpost.com', 'Jerry Allen': 'jallenqe@ca.gov', 'Gregory Weaver': 'gweaverqg@imgur.com', 'Kathryn Collins': 'kcollinsqh@cafepress.com', 'Virginia Gibson': 'vgibsonqi@comsenz.com', 'Joseph Harvey': 'jharveyqj@ameblo.jp', 'Arthur Castillo': 'acastilloqk@google.ru', 'Christina Young': 'cyoungql@sogou.com', 'Raymond James': 'rjamesqm@nature.com', 'Kenneth Jones': 'kjonesqn@google.ru', 'Samuel Elliott': 'selliottqo@earthlink.net', 'Brian Ward': 'bwardqp@apple.com', 'Shirley Barnes': 'sbarnesqq@gravatar.com', 'Janice Thomas': 'jthomasqr@desdev.cn', 'Gloria Harris': 'gharrisqs@discovery.com', 'Evelyn Boyd': 'eboydqt@youku.com', 'Laura Peterson': 'lpetersonqu@sina.com.cn', 'Ronald Wells': 'rwellsqv@diigo.com', 'Melissa Cunningham': 'mcunninghamqw@clickbank.net', 'Matthew Lee': 'mleeqx@github.io', 'Philip Price': 'ppriceqy@meetup.com', 'Gary Banks': 'gbanksqz@wunderground.com', 'Angela Collins': 'acollinsr0@smugmug.com', 'Ann King': 'akingr1@chicagotribune.com', 'Katherine Fernandez': 'kfernandezr3@woothemes.com', 'Kenneth Gonzales': 'kgonzalesr4@newyorker.com', 'Robin Peters': 'rpetersr5@discuz.net', 'Raymond Simpson': 'rsimpsonr6@wikimedia.org', 'Karen Fox': 'kfoxr7@msu.edu', 'Janet Perez': 'jperezr8@illinois.edu', 'Brian Harrison': 'bharrisonr9@disqus.com', 'Virginia Robertson': 'vrobertsonra@360.cn', 'Sarah Edwards': 'sedwardsrb@de.vu', 'Edward Bell': 'ebellrc@eventbrite.com', 'Elizabeth Greene': 'egreenerd@last.fm', 'William Hawkins': 'whawkinsre@dyndns.org', 'Joyce Bradley': 'jbradleyrf@bloglines.com', 'Rebecca Oliver': 'roliverrg@mail.ru', 'Gerald Thomas': 'gthomasrh@tripadvisor.com', 'Joshua Wilson': 'jwilsonri@mozilla.org', 'Melissa Garrett': 'mgarrettrj@4shared.com', 'Benjamin Henderson': 'bhendersonrk@yellowpages.com', 'Jack Morales': 'jmoralesrl@dailymotion.com', 'Diana James': 'djamesrm@studiopress.com', 'Teresa Pierce': 'tpiercern@ustream.tv', 'Christine Bowman': 'cbowmanro@ning.com', 'Bruce Jordan': 'bjordanrp@acquirethisname.com', 'Linda Morales': 'lmoralesrq@hostgator.com'}\n"
          ]
        }
      ]
    },
    {
      "cell_type": "markdown",
      "source": [
        "####3. Print a pattern"
      ],
      "metadata": {
        "id": "e6kZPGYKr5Zz"
      }
    },
    {
      "cell_type": "code",
      "source": [
        "# try printing this pattern \n",
        "#write code in the next cell\n",
        "# pro-tip === use   `nested for loops` "
      ],
      "metadata": {
        "colab": {
          "base_uri": "https://localhost:8080/"
        },
        "id": "qkyzwej0sLm6",
        "outputId": "321ea6e8-9bd9-4ed6-e377-220bac853314"
      },
      "execution_count": null,
      "outputs": [
        {
          "output_type": "stream",
          "name": "stdout",
          "text": [
            "* * * * * * * \n",
            "* * * * * * \n",
            "* * * * * \n",
            "* * * * \n",
            "* * * \n",
            "* * \n",
            "* \n"
          ]
        }
      ]
    },
    {
      "cell_type": "code",
      "source": [
        "#write code for above pattern here! \n",
        "\n",
        "for i in range(7):\n",
        "  for j in range(7-i):\n",
        "    print('* ', end = '')\n",
        "  print()"
      ],
      "metadata": {
        "id": "wpj3x2NKsR_U",
        "colab": {
          "base_uri": "https://localhost:8080/"
        },
        "outputId": "968132fe-3c50-4d4f-90ad-5ef4254351f0"
      },
      "execution_count": 5,
      "outputs": [
        {
          "output_type": "stream",
          "name": "stdout",
          "text": [
            "* * * * * * * \n",
            "* * * * * * \n",
            "* * * * * \n",
            "* * * * \n",
            "* * * \n",
            "* * \n",
            "* \n"
          ]
        }
      ]
    },
    {
      "cell_type": "code",
      "source": [
        "# try printing this pattern \n",
        "#write code in the next cell"
      ],
      "metadata": {
        "colab": {
          "base_uri": "https://localhost:8080/"
        },
        "id": "KXTpda4jsmwn",
        "outputId": "ee63e921-02b1-4429-fc04-8c57874544f1"
      },
      "execution_count": null,
      "outputs": [
        {
          "output_type": "stream",
          "name": "stdout",
          "text": [
            "\n",
            "* \n",
            "* * \n",
            "* * * \n",
            "* * * * \n",
            "* * * * * \n",
            "* * * * * * \n"
          ]
        }
      ]
    },
    {
      "cell_type": "code",
      "source": [
        "#write code for above pattern here! \n",
        "\n",
        "for i in range(7):\n",
        "  for j in range(i):\n",
        "    print('* ', end = '')\n",
        "  print()"
      ],
      "metadata": {
        "id": "93JoXYgCs6kc",
        "colab": {
          "base_uri": "https://localhost:8080/"
        },
        "outputId": "9b907504-59d8-4a83-b24d-ef7d1d160dbe"
      },
      "execution_count": 6,
      "outputs": [
        {
          "output_type": "stream",
          "name": "stdout",
          "text": [
            "\n",
            "* \n",
            "* * \n",
            "* * * \n",
            "* * * * \n",
            "* * * * * \n",
            "* * * * * * \n"
          ]
        }
      ]
    },
    {
      "cell_type": "code",
      "source": [
        ""
      ],
      "metadata": {
        "colab": {
          "base_uri": "https://localhost:8080/"
        },
        "id": "n7izMlmGtLDw",
        "outputId": "80eda4b9-b61f-4376-dcf9-0db8fefc4c69"
      },
      "execution_count": null,
      "outputs": [
        {
          "output_type": "stream",
          "name": "stdout",
          "text": [
            "\n",
            " \n",
            " * \n",
            " * ** \n",
            " * ** *** \n",
            " * ** *** **** \n",
            " * ** *** **** ***** \n"
          ]
        }
      ]
    },
    {
      "cell_type": "code",
      "source": [
        "for i in range(7):\n",
        "  for j in range(i):\n",
        "    print('*'*j, '', end = '')\n",
        "  print()"
      ],
      "metadata": {
        "id": "ntsQl-dbtiox",
        "colab": {
          "base_uri": "https://localhost:8080/"
        },
        "outputId": "678f8198-a66c-45af-f5aa-03b73e389d0f"
      },
      "execution_count": 7,
      "outputs": [
        {
          "output_type": "stream",
          "name": "stdout",
          "text": [
            "\n",
            " \n",
            " * \n",
            " * ** \n",
            " * ** *** \n",
            " * ** *** **** \n",
            " * ** *** **** ***** \n"
          ]
        }
      ]
    },
    {
      "cell_type": "markdown",
      "source": [
        "####4. Occurance of a number "
      ],
      "metadata": {
        "id": "GloSj8Dr2WBm"
      }
    },
    {
      "cell_type": "markdown",
      "source": [
        "There is a one list which contains different datatypes. Your task is to make a dictionary which keeps the record of how many times a integer has occured. \n",
        "\n",
        "for e.g. if the given list is like following - \n",
        "\n",
        "```\n",
        "[2,5,2,1,0,4,5,2.4,3.5,]\n",
        "```\n",
        "\n",
        "the expected dictionary is -\n",
        "```\n",
        "{0: 1, 1: 4, 2: 3, 5: 2} #we are not considering other datatypes, only integer datatypes are being considered for dictionary. \n",
        "```"
      ],
      "metadata": {
        "id": "Nb2dP34U2atS"
      }
    },
    {
      "cell_type": "code",
      "source": [
        "object_list = [True, False, 'A', 0,1,3,\"bits pilani k k birla goa campus\", 23,1,0,5,30,123,2,9,2e-3,]"
      ],
      "metadata": {
        "id": "Q6Zzv1tp3Jjx"
      },
      "execution_count": 8,
      "outputs": []
    },
    {
      "cell_type": "code",
      "source": [
        "#write your code here.\n",
        "\n",
        "d = {}\n",
        "l =[]\n",
        "\n",
        "for obj in object_list:\n",
        "  if type(obj) is int:\n",
        "    l.append(obj)\n",
        "\n",
        "unique_l = []\n",
        "\n",
        "for int_obj in l:\n",
        "  if int_obj not in unique_l:\n",
        "    unique_l.append(int_obj)\n",
        "\n",
        "for unique_obj in unique_l:\n",
        "  d[unique_obj] = l.count(unique_obj)\n",
        "\n",
        "print(d)"
      ],
      "metadata": {
        "id": "6Iu2QU0C4oBM",
        "colab": {
          "base_uri": "https://localhost:8080/"
        },
        "outputId": "ae092267-a61b-4d01-faaa-b8d78795c713"
      },
      "execution_count": 9,
      "outputs": [
        {
          "output_type": "stream",
          "name": "stdout",
          "text": [
            "{0: 2, 1: 2, 3: 1, 23: 1, 5: 1, 30: 1, 123: 1, 2: 1, 9: 1}\n"
          ]
        }
      ]
    },
    {
      "cell_type": "code",
      "source": [
        ""
      ],
      "metadata": {
        "id": "qFmPY5RB3MHN"
      },
      "execution_count": null,
      "outputs": []
    },
    {
      "cell_type": "code",
      "source": [
        ""
      ],
      "metadata": {
        "id": "zR7A17-v3TzR"
      },
      "execution_count": null,
      "outputs": []
    },
    {
      "cell_type": "code",
      "source": [
        ""
      ],
      "metadata": {
        "id": "cFbf3cDe3dT4"
      },
      "execution_count": null,
      "outputs": []
    }
  ]
}